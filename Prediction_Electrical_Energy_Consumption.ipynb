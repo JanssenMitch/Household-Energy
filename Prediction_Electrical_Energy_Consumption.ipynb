{
  "nbformat": 4,
  "nbformat_minor": 0,
  "metadata": {
    "colab": {
      "provenance": []
    },
    "kernelspec": {
      "name": "python3",
      "display_name": "Python 3"
    },
    "language_info": {
      "name": "python"
    }
  },
  "cells": [
    {
      "cell_type": "code",
      "source": [
        "from google.colab import drive\n",
        "drive.mount('/content/drive')"
      ],
      "metadata": {
        "colab": {
          "base_uri": "https://localhost:8080/"
        },
        "id": "K7vpSIR4PdtD",
        "outputId": "a1fa3916-d162-4fbb-d778-9f7ee5c8d74a"
      },
      "execution_count": null,
      "outputs": [
        {
          "output_type": "stream",
          "name": "stdout",
          "text": [
            "Mounted at /content/drive\n"
          ]
        }
      ]
    },
    {
      "cell_type": "code",
      "execution_count": null,
      "metadata": {
        "id": "OvkJDKHHhNi4"
      },
      "outputs": [],
      "source": [
        "import numpy as np\n",
        "import pandas as pd\n",
        "import matplotlib.pyplot as plt\n",
        "import seaborn as sns\n",
        "import warnings\n",
        "warnings.filterwarnings('ignore')\n",
        "%matplotlib inline\n",
        "color_pal = sns.color_palette()\n",
        "plt.style.use('fivethirtyeight')"
      ]
    },
    {
      "cell_type": "markdown",
      "source": [
        "Load Dataset and Dataset Information"
      ],
      "metadata": {
        "id": "37V2JeaJSIIJ"
      }
    },
    {
      "cell_type": "code",
      "source": [
        "dataset = pd.read_csv(\"/content/drive/MyDrive/Colab Notebooks/research methodology /household_power_consumption.csv\")"
      ],
      "metadata": {
        "id": "tdC2T-qbPpNT"
      },
      "execution_count": null,
      "outputs": []
    },
    {
      "cell_type": "code",
      "source": [
        "dataset.head()"
      ],
      "metadata": {
        "colab": {
          "base_uri": "https://localhost:8080/",
          "height": 206
        },
        "id": "TNckkWldQED-",
        "outputId": "d593bf15-4bc7-4cd5-f0e8-9f04ded275fc"
      },
      "execution_count": null,
      "outputs": [
        {
          "output_type": "execute_result",
          "data": {
            "text/plain": [
              "   index    Date     Time Global_active_power Global_reactive_power Voltage  \\\n",
              "0      0  1/1/07  0:00:00                2.58                 0.136  241.97   \n",
              "1      1  1/1/07  0:01:00               2.552                   0.1  241.75   \n",
              "2      2  1/1/07  0:02:00                2.55                   0.1  241.64   \n",
              "3      3  1/1/07  0:03:00                2.55                   0.1  241.71   \n",
              "4      4  1/1/07  0:04:00               2.554                   0.1  241.98   \n",
              "\n",
              "  Global_intensity Sub_metering_1 Sub_metering_2  Sub_metering_3  \n",
              "0             10.6              0              0             0.0  \n",
              "1             10.4              0              0             0.0  \n",
              "2             10.4              0              0             0.0  \n",
              "3             10.4              0              0             0.0  \n",
              "4             10.4              0              0             0.0  "
            ],
            "text/html": [
              "\n",
              "  <div id=\"df-cf52396d-832c-4383-83e8-6eea0ee7d9c2\" class=\"colab-df-container\">\n",
              "    <div>\n",
              "<style scoped>\n",
              "    .dataframe tbody tr th:only-of-type {\n",
              "        vertical-align: middle;\n",
              "    }\n",
              "\n",
              "    .dataframe tbody tr th {\n",
              "        vertical-align: top;\n",
              "    }\n",
              "\n",
              "    .dataframe thead th {\n",
              "        text-align: right;\n",
              "    }\n",
              "</style>\n",
              "<table border=\"1\" class=\"dataframe\">\n",
              "  <thead>\n",
              "    <tr style=\"text-align: right;\">\n",
              "      <th></th>\n",
              "      <th>index</th>\n",
              "      <th>Date</th>\n",
              "      <th>Time</th>\n",
              "      <th>Global_active_power</th>\n",
              "      <th>Global_reactive_power</th>\n",
              "      <th>Voltage</th>\n",
              "      <th>Global_intensity</th>\n",
              "      <th>Sub_metering_1</th>\n",
              "      <th>Sub_metering_2</th>\n",
              "      <th>Sub_metering_3</th>\n",
              "    </tr>\n",
              "  </thead>\n",
              "  <tbody>\n",
              "    <tr>\n",
              "      <th>0</th>\n",
              "      <td>0</td>\n",
              "      <td>1/1/07</td>\n",
              "      <td>0:00:00</td>\n",
              "      <td>2.58</td>\n",
              "      <td>0.136</td>\n",
              "      <td>241.97</td>\n",
              "      <td>10.6</td>\n",
              "      <td>0</td>\n",
              "      <td>0</td>\n",
              "      <td>0.0</td>\n",
              "    </tr>\n",
              "    <tr>\n",
              "      <th>1</th>\n",
              "      <td>1</td>\n",
              "      <td>1/1/07</td>\n",
              "      <td>0:01:00</td>\n",
              "      <td>2.552</td>\n",
              "      <td>0.1</td>\n",
              "      <td>241.75</td>\n",
              "      <td>10.4</td>\n",
              "      <td>0</td>\n",
              "      <td>0</td>\n",
              "      <td>0.0</td>\n",
              "    </tr>\n",
              "    <tr>\n",
              "      <th>2</th>\n",
              "      <td>2</td>\n",
              "      <td>1/1/07</td>\n",
              "      <td>0:02:00</td>\n",
              "      <td>2.55</td>\n",
              "      <td>0.1</td>\n",
              "      <td>241.64</td>\n",
              "      <td>10.4</td>\n",
              "      <td>0</td>\n",
              "      <td>0</td>\n",
              "      <td>0.0</td>\n",
              "    </tr>\n",
              "    <tr>\n",
              "      <th>3</th>\n",
              "      <td>3</td>\n",
              "      <td>1/1/07</td>\n",
              "      <td>0:03:00</td>\n",
              "      <td>2.55</td>\n",
              "      <td>0.1</td>\n",
              "      <td>241.71</td>\n",
              "      <td>10.4</td>\n",
              "      <td>0</td>\n",
              "      <td>0</td>\n",
              "      <td>0.0</td>\n",
              "    </tr>\n",
              "    <tr>\n",
              "      <th>4</th>\n",
              "      <td>4</td>\n",
              "      <td>1/1/07</td>\n",
              "      <td>0:04:00</td>\n",
              "      <td>2.554</td>\n",
              "      <td>0.1</td>\n",
              "      <td>241.98</td>\n",
              "      <td>10.4</td>\n",
              "      <td>0</td>\n",
              "      <td>0</td>\n",
              "      <td>0.0</td>\n",
              "    </tr>\n",
              "  </tbody>\n",
              "</table>\n",
              "</div>\n",
              "    <div class=\"colab-df-buttons\">\n",
              "\n",
              "  <div class=\"colab-df-container\">\n",
              "    <button class=\"colab-df-convert\" onclick=\"convertToInteractive('df-cf52396d-832c-4383-83e8-6eea0ee7d9c2')\"\n",
              "            title=\"Convert this dataframe to an interactive table.\"\n",
              "            style=\"display:none;\">\n",
              "\n",
              "  <svg xmlns=\"http://www.w3.org/2000/svg\" height=\"24px\" viewBox=\"0 -960 960 960\">\n",
              "    <path d=\"M120-120v-720h720v720H120Zm60-500h600v-160H180v160Zm220 220h160v-160H400v160Zm0 220h160v-160H400v160ZM180-400h160v-160H180v160Zm440 0h160v-160H620v160ZM180-180h160v-160H180v160Zm440 0h160v-160H620v160Z\"/>\n",
              "  </svg>\n",
              "    </button>\n",
              "\n",
              "  <style>\n",
              "    .colab-df-container {\n",
              "      display:flex;\n",
              "      gap: 12px;\n",
              "    }\n",
              "\n",
              "    .colab-df-convert {\n",
              "      background-color: #E8F0FE;\n",
              "      border: none;\n",
              "      border-radius: 50%;\n",
              "      cursor: pointer;\n",
              "      display: none;\n",
              "      fill: #1967D2;\n",
              "      height: 32px;\n",
              "      padding: 0 0 0 0;\n",
              "      width: 32px;\n",
              "    }\n",
              "\n",
              "    .colab-df-convert:hover {\n",
              "      background-color: #E2EBFA;\n",
              "      box-shadow: 0px 1px 2px rgba(60, 64, 67, 0.3), 0px 1px 3px 1px rgba(60, 64, 67, 0.15);\n",
              "      fill: #174EA6;\n",
              "    }\n",
              "\n",
              "    .colab-df-buttons div {\n",
              "      margin-bottom: 4px;\n",
              "    }\n",
              "\n",
              "    [theme=dark] .colab-df-convert {\n",
              "      background-color: #3B4455;\n",
              "      fill: #D2E3FC;\n",
              "    }\n",
              "\n",
              "    [theme=dark] .colab-df-convert:hover {\n",
              "      background-color: #434B5C;\n",
              "      box-shadow: 0px 1px 3px 1px rgba(0, 0, 0, 0.15);\n",
              "      filter: drop-shadow(0px 1px 2px rgba(0, 0, 0, 0.3));\n",
              "      fill: #FFFFFF;\n",
              "    }\n",
              "  </style>\n",
              "\n",
              "    <script>\n",
              "      const buttonEl =\n",
              "        document.querySelector('#df-cf52396d-832c-4383-83e8-6eea0ee7d9c2 button.colab-df-convert');\n",
              "      buttonEl.style.display =\n",
              "        google.colab.kernel.accessAllowed ? 'block' : 'none';\n",
              "\n",
              "      async function convertToInteractive(key) {\n",
              "        const element = document.querySelector('#df-cf52396d-832c-4383-83e8-6eea0ee7d9c2');\n",
              "        const dataTable =\n",
              "          await google.colab.kernel.invokeFunction('convertToInteractive',\n",
              "                                                    [key], {});\n",
              "        if (!dataTable) return;\n",
              "\n",
              "        const docLinkHtml = 'Like what you see? Visit the ' +\n",
              "          '<a target=\"_blank\" href=https://colab.research.google.com/notebooks/data_table.ipynb>data table notebook</a>'\n",
              "          + ' to learn more about interactive tables.';\n",
              "        element.innerHTML = '';\n",
              "        dataTable['output_type'] = 'display_data';\n",
              "        await google.colab.output.renderOutput(dataTable, element);\n",
              "        const docLink = document.createElement('div');\n",
              "        docLink.innerHTML = docLinkHtml;\n",
              "        element.appendChild(docLink);\n",
              "      }\n",
              "    </script>\n",
              "  </div>\n",
              "\n",
              "\n",
              "<div id=\"df-6cb86b7f-926e-47b0-bfdd-d9bb8e6baff6\">\n",
              "  <button class=\"colab-df-quickchart\" onclick=\"quickchart('df-6cb86b7f-926e-47b0-bfdd-d9bb8e6baff6')\"\n",
              "            title=\"Suggest charts\"\n",
              "            style=\"display:none;\">\n",
              "\n",
              "<svg xmlns=\"http://www.w3.org/2000/svg\" height=\"24px\"viewBox=\"0 0 24 24\"\n",
              "     width=\"24px\">\n",
              "    <g>\n",
              "        <path d=\"M19 3H5c-1.1 0-2 .9-2 2v14c0 1.1.9 2 2 2h14c1.1 0 2-.9 2-2V5c0-1.1-.9-2-2-2zM9 17H7v-7h2v7zm4 0h-2V7h2v10zm4 0h-2v-4h2v4z\"/>\n",
              "    </g>\n",
              "</svg>\n",
              "  </button>\n",
              "\n",
              "<style>\n",
              "  .colab-df-quickchart {\n",
              "      --bg-color: #E8F0FE;\n",
              "      --fill-color: #1967D2;\n",
              "      --hover-bg-color: #E2EBFA;\n",
              "      --hover-fill-color: #174EA6;\n",
              "      --disabled-fill-color: #AAA;\n",
              "      --disabled-bg-color: #DDD;\n",
              "  }\n",
              "\n",
              "  [theme=dark] .colab-df-quickchart {\n",
              "      --bg-color: #3B4455;\n",
              "      --fill-color: #D2E3FC;\n",
              "      --hover-bg-color: #434B5C;\n",
              "      --hover-fill-color: #FFFFFF;\n",
              "      --disabled-bg-color: #3B4455;\n",
              "      --disabled-fill-color: #666;\n",
              "  }\n",
              "\n",
              "  .colab-df-quickchart {\n",
              "    background-color: var(--bg-color);\n",
              "    border: none;\n",
              "    border-radius: 50%;\n",
              "    cursor: pointer;\n",
              "    display: none;\n",
              "    fill: var(--fill-color);\n",
              "    height: 32px;\n",
              "    padding: 0;\n",
              "    width: 32px;\n",
              "  }\n",
              "\n",
              "  .colab-df-quickchart:hover {\n",
              "    background-color: var(--hover-bg-color);\n",
              "    box-shadow: 0 1px 2px rgba(60, 64, 67, 0.3), 0 1px 3px 1px rgba(60, 64, 67, 0.15);\n",
              "    fill: var(--button-hover-fill-color);\n",
              "  }\n",
              "\n",
              "  .colab-df-quickchart-complete:disabled,\n",
              "  .colab-df-quickchart-complete:disabled:hover {\n",
              "    background-color: var(--disabled-bg-color);\n",
              "    fill: var(--disabled-fill-color);\n",
              "    box-shadow: none;\n",
              "  }\n",
              "\n",
              "  .colab-df-spinner {\n",
              "    border: 2px solid var(--fill-color);\n",
              "    border-color: transparent;\n",
              "    border-bottom-color: var(--fill-color);\n",
              "    animation:\n",
              "      spin 1s steps(1) infinite;\n",
              "  }\n",
              "\n",
              "  @keyframes spin {\n",
              "    0% {\n",
              "      border-color: transparent;\n",
              "      border-bottom-color: var(--fill-color);\n",
              "      border-left-color: var(--fill-color);\n",
              "    }\n",
              "    20% {\n",
              "      border-color: transparent;\n",
              "      border-left-color: var(--fill-color);\n",
              "      border-top-color: var(--fill-color);\n",
              "    }\n",
              "    30% {\n",
              "      border-color: transparent;\n",
              "      border-left-color: var(--fill-color);\n",
              "      border-top-color: var(--fill-color);\n",
              "      border-right-color: var(--fill-color);\n",
              "    }\n",
              "    40% {\n",
              "      border-color: transparent;\n",
              "      border-right-color: var(--fill-color);\n",
              "      border-top-color: var(--fill-color);\n",
              "    }\n",
              "    60% {\n",
              "      border-color: transparent;\n",
              "      border-right-color: var(--fill-color);\n",
              "    }\n",
              "    80% {\n",
              "      border-color: transparent;\n",
              "      border-right-color: var(--fill-color);\n",
              "      border-bottom-color: var(--fill-color);\n",
              "    }\n",
              "    90% {\n",
              "      border-color: transparent;\n",
              "      border-bottom-color: var(--fill-color);\n",
              "    }\n",
              "  }\n",
              "</style>\n",
              "\n",
              "  <script>\n",
              "    async function quickchart(key) {\n",
              "      const quickchartButtonEl =\n",
              "        document.querySelector('#' + key + ' button');\n",
              "      quickchartButtonEl.disabled = true;  // To prevent multiple clicks.\n",
              "      quickchartButtonEl.classList.add('colab-df-spinner');\n",
              "      try {\n",
              "        const charts = await google.colab.kernel.invokeFunction(\n",
              "            'suggestCharts', [key], {});\n",
              "      } catch (error) {\n",
              "        console.error('Error during call to suggestCharts:', error);\n",
              "      }\n",
              "      quickchartButtonEl.classList.remove('colab-df-spinner');\n",
              "      quickchartButtonEl.classList.add('colab-df-quickchart-complete');\n",
              "    }\n",
              "    (() => {\n",
              "      let quickchartButtonEl =\n",
              "        document.querySelector('#df-6cb86b7f-926e-47b0-bfdd-d9bb8e6baff6 button');\n",
              "      quickchartButtonEl.style.display =\n",
              "        google.colab.kernel.accessAllowed ? 'block' : 'none';\n",
              "    })();\n",
              "  </script>\n",
              "</div>\n",
              "\n",
              "    </div>\n",
              "  </div>\n"
            ],
            "application/vnd.google.colaboratory.intrinsic+json": {
              "type": "dataframe",
              "variable_name": "dataset"
            }
          },
          "metadata": {},
          "execution_count": 4
        }
      ]
    },
    {
      "cell_type": "code",
      "source": [
        "dataset.tail()"
      ],
      "metadata": {
        "colab": {
          "base_uri": "https://localhost:8080/",
          "height": 206
        },
        "id": "nVqpg6KRQGFR",
        "outputId": "b1330b0f-fa6e-4f29-99ed-bc61db75e704"
      },
      "execution_count": null,
      "outputs": [
        {
          "output_type": "execute_result",
          "data": {
            "text/plain": [
              "         index       Date      Time Global_active_power Global_reactive_power  \\\n",
              "260635  260635  30/6/2007  23:55:00                2.88                  0.36   \n",
              "260636  260636  30/6/2007  23:56:00               2.892                 0.358   \n",
              "260637  260637  30/6/2007  23:57:00               2.882                  0.28   \n",
              "260638  260638  30/6/2007  23:58:00                2.66                  0.29   \n",
              "260639  260639  30/6/2007  23:59:00               2.548                 0.354   \n",
              "\n",
              "       Voltage Global_intensity Sub_metering_1 Sub_metering_2  Sub_metering_3  \n",
              "260635  239.01               12              0              0            18.0  \n",
              "260636  238.86             12.2              0              0            17.0  \n",
              "260637  239.05               12              0              0            18.0  \n",
              "260638  238.98             11.2              0              0            18.0  \n",
              "260639  239.25             10.6              0              1            17.0  "
            ],
            "text/html": [
              "\n",
              "  <div id=\"df-a10114a2-f005-4d35-b297-f6ad706157ad\" class=\"colab-df-container\">\n",
              "    <div>\n",
              "<style scoped>\n",
              "    .dataframe tbody tr th:only-of-type {\n",
              "        vertical-align: middle;\n",
              "    }\n",
              "\n",
              "    .dataframe tbody tr th {\n",
              "        vertical-align: top;\n",
              "    }\n",
              "\n",
              "    .dataframe thead th {\n",
              "        text-align: right;\n",
              "    }\n",
              "</style>\n",
              "<table border=\"1\" class=\"dataframe\">\n",
              "  <thead>\n",
              "    <tr style=\"text-align: right;\">\n",
              "      <th></th>\n",
              "      <th>index</th>\n",
              "      <th>Date</th>\n",
              "      <th>Time</th>\n",
              "      <th>Global_active_power</th>\n",
              "      <th>Global_reactive_power</th>\n",
              "      <th>Voltage</th>\n",
              "      <th>Global_intensity</th>\n",
              "      <th>Sub_metering_1</th>\n",
              "      <th>Sub_metering_2</th>\n",
              "      <th>Sub_metering_3</th>\n",
              "    </tr>\n",
              "  </thead>\n",
              "  <tbody>\n",
              "    <tr>\n",
              "      <th>260635</th>\n",
              "      <td>260635</td>\n",
              "      <td>30/6/2007</td>\n",
              "      <td>23:55:00</td>\n",
              "      <td>2.88</td>\n",
              "      <td>0.36</td>\n",
              "      <td>239.01</td>\n",
              "      <td>12</td>\n",
              "      <td>0</td>\n",
              "      <td>0</td>\n",
              "      <td>18.0</td>\n",
              "    </tr>\n",
              "    <tr>\n",
              "      <th>260636</th>\n",
              "      <td>260636</td>\n",
              "      <td>30/6/2007</td>\n",
              "      <td>23:56:00</td>\n",
              "      <td>2.892</td>\n",
              "      <td>0.358</td>\n",
              "      <td>238.86</td>\n",
              "      <td>12.2</td>\n",
              "      <td>0</td>\n",
              "      <td>0</td>\n",
              "      <td>17.0</td>\n",
              "    </tr>\n",
              "    <tr>\n",
              "      <th>260637</th>\n",
              "      <td>260637</td>\n",
              "      <td>30/6/2007</td>\n",
              "      <td>23:57:00</td>\n",
              "      <td>2.882</td>\n",
              "      <td>0.28</td>\n",
              "      <td>239.05</td>\n",
              "      <td>12</td>\n",
              "      <td>0</td>\n",
              "      <td>0</td>\n",
              "      <td>18.0</td>\n",
              "    </tr>\n",
              "    <tr>\n",
              "      <th>260638</th>\n",
              "      <td>260638</td>\n",
              "      <td>30/6/2007</td>\n",
              "      <td>23:58:00</td>\n",
              "      <td>2.66</td>\n",
              "      <td>0.29</td>\n",
              "      <td>238.98</td>\n",
              "      <td>11.2</td>\n",
              "      <td>0</td>\n",
              "      <td>0</td>\n",
              "      <td>18.0</td>\n",
              "    </tr>\n",
              "    <tr>\n",
              "      <th>260639</th>\n",
              "      <td>260639</td>\n",
              "      <td>30/6/2007</td>\n",
              "      <td>23:59:00</td>\n",
              "      <td>2.548</td>\n",
              "      <td>0.354</td>\n",
              "      <td>239.25</td>\n",
              "      <td>10.6</td>\n",
              "      <td>0</td>\n",
              "      <td>1</td>\n",
              "      <td>17.0</td>\n",
              "    </tr>\n",
              "  </tbody>\n",
              "</table>\n",
              "</div>\n",
              "    <div class=\"colab-df-buttons\">\n",
              "\n",
              "  <div class=\"colab-df-container\">\n",
              "    <button class=\"colab-df-convert\" onclick=\"convertToInteractive('df-a10114a2-f005-4d35-b297-f6ad706157ad')\"\n",
              "            title=\"Convert this dataframe to an interactive table.\"\n",
              "            style=\"display:none;\">\n",
              "\n",
              "  <svg xmlns=\"http://www.w3.org/2000/svg\" height=\"24px\" viewBox=\"0 -960 960 960\">\n",
              "    <path d=\"M120-120v-720h720v720H120Zm60-500h600v-160H180v160Zm220 220h160v-160H400v160Zm0 220h160v-160H400v160ZM180-400h160v-160H180v160Zm440 0h160v-160H620v160ZM180-180h160v-160H180v160Zm440 0h160v-160H620v160Z\"/>\n",
              "  </svg>\n",
              "    </button>\n",
              "\n",
              "  <style>\n",
              "    .colab-df-container {\n",
              "      display:flex;\n",
              "      gap: 12px;\n",
              "    }\n",
              "\n",
              "    .colab-df-convert {\n",
              "      background-color: #E8F0FE;\n",
              "      border: none;\n",
              "      border-radius: 50%;\n",
              "      cursor: pointer;\n",
              "      display: none;\n",
              "      fill: #1967D2;\n",
              "      height: 32px;\n",
              "      padding: 0 0 0 0;\n",
              "      width: 32px;\n",
              "    }\n",
              "\n",
              "    .colab-df-convert:hover {\n",
              "      background-color: #E2EBFA;\n",
              "      box-shadow: 0px 1px 2px rgba(60, 64, 67, 0.3), 0px 1px 3px 1px rgba(60, 64, 67, 0.15);\n",
              "      fill: #174EA6;\n",
              "    }\n",
              "\n",
              "    .colab-df-buttons div {\n",
              "      margin-bottom: 4px;\n",
              "    }\n",
              "\n",
              "    [theme=dark] .colab-df-convert {\n",
              "      background-color: #3B4455;\n",
              "      fill: #D2E3FC;\n",
              "    }\n",
              "\n",
              "    [theme=dark] .colab-df-convert:hover {\n",
              "      background-color: #434B5C;\n",
              "      box-shadow: 0px 1px 3px 1px rgba(0, 0, 0, 0.15);\n",
              "      filter: drop-shadow(0px 1px 2px rgba(0, 0, 0, 0.3));\n",
              "      fill: #FFFFFF;\n",
              "    }\n",
              "  </style>\n",
              "\n",
              "    <script>\n",
              "      const buttonEl =\n",
              "        document.querySelector('#df-a10114a2-f005-4d35-b297-f6ad706157ad button.colab-df-convert');\n",
              "      buttonEl.style.display =\n",
              "        google.colab.kernel.accessAllowed ? 'block' : 'none';\n",
              "\n",
              "      async function convertToInteractive(key) {\n",
              "        const element = document.querySelector('#df-a10114a2-f005-4d35-b297-f6ad706157ad');\n",
              "        const dataTable =\n",
              "          await google.colab.kernel.invokeFunction('convertToInteractive',\n",
              "                                                    [key], {});\n",
              "        if (!dataTable) return;\n",
              "\n",
              "        const docLinkHtml = 'Like what you see? Visit the ' +\n",
              "          '<a target=\"_blank\" href=https://colab.research.google.com/notebooks/data_table.ipynb>data table notebook</a>'\n",
              "          + ' to learn more about interactive tables.';\n",
              "        element.innerHTML = '';\n",
              "        dataTable['output_type'] = 'display_data';\n",
              "        await google.colab.output.renderOutput(dataTable, element);\n",
              "        const docLink = document.createElement('div');\n",
              "        docLink.innerHTML = docLinkHtml;\n",
              "        element.appendChild(docLink);\n",
              "      }\n",
              "    </script>\n",
              "  </div>\n",
              "\n",
              "\n",
              "<div id=\"df-e1007b33-d927-4c62-9079-aeb75d36e1de\">\n",
              "  <button class=\"colab-df-quickchart\" onclick=\"quickchart('df-e1007b33-d927-4c62-9079-aeb75d36e1de')\"\n",
              "            title=\"Suggest charts\"\n",
              "            style=\"display:none;\">\n",
              "\n",
              "<svg xmlns=\"http://www.w3.org/2000/svg\" height=\"24px\"viewBox=\"0 0 24 24\"\n",
              "     width=\"24px\">\n",
              "    <g>\n",
              "        <path d=\"M19 3H5c-1.1 0-2 .9-2 2v14c0 1.1.9 2 2 2h14c1.1 0 2-.9 2-2V5c0-1.1-.9-2-2-2zM9 17H7v-7h2v7zm4 0h-2V7h2v10zm4 0h-2v-4h2v4z\"/>\n",
              "    </g>\n",
              "</svg>\n",
              "  </button>\n",
              "\n",
              "<style>\n",
              "  .colab-df-quickchart {\n",
              "      --bg-color: #E8F0FE;\n",
              "      --fill-color: #1967D2;\n",
              "      --hover-bg-color: #E2EBFA;\n",
              "      --hover-fill-color: #174EA6;\n",
              "      --disabled-fill-color: #AAA;\n",
              "      --disabled-bg-color: #DDD;\n",
              "  }\n",
              "\n",
              "  [theme=dark] .colab-df-quickchart {\n",
              "      --bg-color: #3B4455;\n",
              "      --fill-color: #D2E3FC;\n",
              "      --hover-bg-color: #434B5C;\n",
              "      --hover-fill-color: #FFFFFF;\n",
              "      --disabled-bg-color: #3B4455;\n",
              "      --disabled-fill-color: #666;\n",
              "  }\n",
              "\n",
              "  .colab-df-quickchart {\n",
              "    background-color: var(--bg-color);\n",
              "    border: none;\n",
              "    border-radius: 50%;\n",
              "    cursor: pointer;\n",
              "    display: none;\n",
              "    fill: var(--fill-color);\n",
              "    height: 32px;\n",
              "    padding: 0;\n",
              "    width: 32px;\n",
              "  }\n",
              "\n",
              "  .colab-df-quickchart:hover {\n",
              "    background-color: var(--hover-bg-color);\n",
              "    box-shadow: 0 1px 2px rgba(60, 64, 67, 0.3), 0 1px 3px 1px rgba(60, 64, 67, 0.15);\n",
              "    fill: var(--button-hover-fill-color);\n",
              "  }\n",
              "\n",
              "  .colab-df-quickchart-complete:disabled,\n",
              "  .colab-df-quickchart-complete:disabled:hover {\n",
              "    background-color: var(--disabled-bg-color);\n",
              "    fill: var(--disabled-fill-color);\n",
              "    box-shadow: none;\n",
              "  }\n",
              "\n",
              "  .colab-df-spinner {\n",
              "    border: 2px solid var(--fill-color);\n",
              "    border-color: transparent;\n",
              "    border-bottom-color: var(--fill-color);\n",
              "    animation:\n",
              "      spin 1s steps(1) infinite;\n",
              "  }\n",
              "\n",
              "  @keyframes spin {\n",
              "    0% {\n",
              "      border-color: transparent;\n",
              "      border-bottom-color: var(--fill-color);\n",
              "      border-left-color: var(--fill-color);\n",
              "    }\n",
              "    20% {\n",
              "      border-color: transparent;\n",
              "      border-left-color: var(--fill-color);\n",
              "      border-top-color: var(--fill-color);\n",
              "    }\n",
              "    30% {\n",
              "      border-color: transparent;\n",
              "      border-left-color: var(--fill-color);\n",
              "      border-top-color: var(--fill-color);\n",
              "      border-right-color: var(--fill-color);\n",
              "    }\n",
              "    40% {\n",
              "      border-color: transparent;\n",
              "      border-right-color: var(--fill-color);\n",
              "      border-top-color: var(--fill-color);\n",
              "    }\n",
              "    60% {\n",
              "      border-color: transparent;\n",
              "      border-right-color: var(--fill-color);\n",
              "    }\n",
              "    80% {\n",
              "      border-color: transparent;\n",
              "      border-right-color: var(--fill-color);\n",
              "      border-bottom-color: var(--fill-color);\n",
              "    }\n",
              "    90% {\n",
              "      border-color: transparent;\n",
              "      border-bottom-color: var(--fill-color);\n",
              "    }\n",
              "  }\n",
              "</style>\n",
              "\n",
              "  <script>\n",
              "    async function quickchart(key) {\n",
              "      const quickchartButtonEl =\n",
              "        document.querySelector('#' + key + ' button');\n",
              "      quickchartButtonEl.disabled = true;  // To prevent multiple clicks.\n",
              "      quickchartButtonEl.classList.add('colab-df-spinner');\n",
              "      try {\n",
              "        const charts = await google.colab.kernel.invokeFunction(\n",
              "            'suggestCharts', [key], {});\n",
              "      } catch (error) {\n",
              "        console.error('Error during call to suggestCharts:', error);\n",
              "      }\n",
              "      quickchartButtonEl.classList.remove('colab-df-spinner');\n",
              "      quickchartButtonEl.classList.add('colab-df-quickchart-complete');\n",
              "    }\n",
              "    (() => {\n",
              "      let quickchartButtonEl =\n",
              "        document.querySelector('#df-e1007b33-d927-4c62-9079-aeb75d36e1de button');\n",
              "      quickchartButtonEl.style.display =\n",
              "        google.colab.kernel.accessAllowed ? 'block' : 'none';\n",
              "    })();\n",
              "  </script>\n",
              "</div>\n",
              "\n",
              "    </div>\n",
              "  </div>\n"
            ],
            "application/vnd.google.colaboratory.intrinsic+json": {
              "type": "dataframe",
              "repr_error": "0"
            }
          },
          "metadata": {},
          "execution_count": 5
        }
      ]
    },
    {
      "cell_type": "code",
      "source": [
        "dataset.info()"
      ],
      "metadata": {
        "colab": {
          "base_uri": "https://localhost:8080/"
        },
        "id": "Uk-UOlrRQLEC",
        "outputId": "dbcddc08-d824-408d-df92-6e785a5aa50d"
      },
      "execution_count": null,
      "outputs": [
        {
          "output_type": "stream",
          "name": "stdout",
          "text": [
            "<class 'pandas.core.frame.DataFrame'>\n",
            "RangeIndex: 260640 entries, 0 to 260639\n",
            "Data columns (total 10 columns):\n",
            " #   Column                 Non-Null Count   Dtype  \n",
            "---  ------                 --------------   -----  \n",
            " 0   index                  260640 non-null  int64  \n",
            " 1   Date                   260640 non-null  object \n",
            " 2   Time                   260640 non-null  object \n",
            " 3   Global_active_power    260640 non-null  object \n",
            " 4   Global_reactive_power  260640 non-null  object \n",
            " 5   Voltage                260640 non-null  object \n",
            " 6   Global_intensity       260640 non-null  object \n",
            " 7   Sub_metering_1         260640 non-null  object \n",
            " 8   Sub_metering_2         260640 non-null  object \n",
            " 9   Sub_metering_3         256869 non-null  float64\n",
            "dtypes: float64(1), int64(1), object(8)\n",
            "memory usage: 19.9+ MB\n"
          ]
        }
      ]
    },
    {
      "cell_type": "code",
      "source": [
        "dataset.shape"
      ],
      "metadata": {
        "colab": {
          "base_uri": "https://localhost:8080/"
        },
        "id": "mwJBrlX-QQom",
        "outputId": "dcf587dc-bf92-481b-ed34-bee80c05ed86"
      },
      "execution_count": null,
      "outputs": [
        {
          "output_type": "execute_result",
          "data": {
            "text/plain": [
              "(260640, 10)"
            ]
          },
          "metadata": {},
          "execution_count": 7
        }
      ]
    },
    {
      "cell_type": "markdown",
      "source": [
        "Feature Engineering"
      ],
      "metadata": {
        "id": "jSJ8R9xvSACK"
      }
    },
    {
      "cell_type": "code",
      "source": [
        "# Convert the 'Date' and 'Time' columns to a single 'date_time' column\n",
        "# by combining the two columns and converting to datetime format\n",
        "dataset['date_time'] = pd.to_datetime(dataset['Date'] + ' ' + dataset['Time'])\n",
        "\n",
        "# Convert the 'Global_active_power' column to numeric format\n",
        "# and remove any rows with NaN values\n",
        "dataset['Global_active_power'] = pd.to_numeric(dataset['Global_active_power'], errors='coerce')\n",
        "dataset = dataset.dropna(subset=['Global_active_power'])\n",
        "\n",
        "# Convert the 'date_time' column to datetime format\n",
        "dataset['date_time'] = pd.to_datetime(dataset['date_time'])"
      ],
      "metadata": {
        "id": "zPCsN7jcQo-x"
      },
      "execution_count": null,
      "outputs": []
    },
    {
      "cell_type": "code",
      "source": [
        "# Create new columns for year, quarter, month, and day\n",
        "dataset['year'] = dataset['date_time'].apply(lambda x: x.year)\n",
        "dataset['quarter'] = dataset['date_time'].apply(lambda x: x.quarter)\n",
        "dataset['month'] = dataset['date_time'].apply(lambda x: x.month)\n",
        "dataset['day'] = dataset['date_time'].apply(lambda x: x.day)"
      ],
      "metadata": {
        "id": "u3wPMK02RPKs"
      },
      "execution_count": null,
      "outputs": []
    },
    {
      "cell_type": "code",
      "source": [
        "# Keep only the columns 'date_time', 'Global_active_power', 'year', 'quarter', 'month', 'day'\n",
        "dataset = dataset.loc[:,['date_time','Global_active_power', 'year','quarter','month','day']]"
      ],
      "metadata": {
        "id": "DfUEzRZyRhMz"
      },
      "execution_count": null,
      "outputs": []
    },
    {
      "cell_type": "code",
      "source": [
        "# Sort the data by date_time in ascending order\n",
        "dataset.sort_values('date_time', inplace=True, ascending=True)"
      ],
      "metadata": {
        "id": "ulXOSb9-Rk1S"
      },
      "execution_count": null,
      "outputs": []
    },
    {
      "cell_type": "code",
      "source": [
        "# Reset the index of the data\n",
        "dataset = dataset.reset_index(drop=True)"
      ],
      "metadata": {
        "id": "5BpMDOCCRzzP"
      },
      "execution_count": null,
      "outputs": []
    },
    {
      "cell_type": "code",
      "source": [
        "# Create a new column 'weekday' that indicates if the day is a weekday (1) or weekend (0)\n",
        "dataset['weekday'] = dataset['date_time'].apply(lambda x: x.weekday() < 5).astype(int)"
      ],
      "metadata": {
        "id": "ciT0dNL4R6OM"
      },
      "execution_count": null,
      "outputs": []
    },
    {
      "cell_type": "code",
      "source": [
        "dataset.shape"
      ],
      "metadata": {
        "colab": {
          "base_uri": "https://localhost:8080/"
        },
        "id": "6ox00qbsSiPV",
        "outputId": "d2c99142-9b0e-48bf-f68c-dad34c23c9a2"
      },
      "execution_count": null,
      "outputs": [
        {
          "output_type": "execute_result",
          "data": {
            "text/plain": [
              "(256869, 7)"
            ]
          },
          "metadata": {},
          "execution_count": 14
        }
      ]
    },
    {
      "cell_type": "code",
      "source": [
        "dataset.date_time.min()"
      ],
      "metadata": {
        "colab": {
          "base_uri": "https://localhost:8080/"
        },
        "id": "IvQFJ6iOSkQK",
        "outputId": "a9314907-71f8-433b-e444-a5217b9579da"
      },
      "execution_count": null,
      "outputs": [
        {
          "output_type": "execute_result",
          "data": {
            "text/plain": [
              "Timestamp('2007-01-01 00:00:00')"
            ]
          },
          "metadata": {},
          "execution_count": 15
        }
      ]
    },
    {
      "cell_type": "code",
      "source": [
        "dataset.date_time.max()"
      ],
      "metadata": {
        "colab": {
          "base_uri": "https://localhost:8080/"
        },
        "id": "fd3-VWuPSovL",
        "outputId": "2f028453-22ce-4bc3-f282-9bccb229cffe"
      },
      "execution_count": null,
      "outputs": [
        {
          "output_type": "execute_result",
          "data": {
            "text/plain": [
              "Timestamp('2007-12-06 23:59:00')"
            ]
          },
          "metadata": {},
          "execution_count": 16
        }
      ]
    },
    {
      "cell_type": "code",
      "source": [
        "dataset.tail()"
      ],
      "metadata": {
        "colab": {
          "base_uri": "https://localhost:8080/",
          "height": 206
        },
        "id": "QXYBOSSDStr3",
        "outputId": "d0e4e3c2-559b-48da-a771-90c090d338b3"
      },
      "execution_count": null,
      "outputs": [
        {
          "output_type": "execute_result",
          "data": {
            "text/plain": [
              "                 date_time  Global_active_power  year  quarter  month  day  \\\n",
              "256864 2007-12-06 23:55:00                0.178  2007        4     12    6   \n",
              "256865 2007-12-06 23:56:00                0.178  2007        4     12    6   \n",
              "256866 2007-12-06 23:57:00                0.176  2007        4     12    6   \n",
              "256867 2007-12-06 23:58:00                0.216  2007        4     12    6   \n",
              "256868 2007-12-06 23:59:00                0.264  2007        4     12    6   \n",
              "\n",
              "        weekday  \n",
              "256864        1  \n",
              "256865        1  \n",
              "256866        1  \n",
              "256867        1  \n",
              "256868        1  "
            ],
            "text/html": [
              "\n",
              "  <div id=\"df-4a6850c0-e624-4b8a-b0fe-6cefbc2408b0\" class=\"colab-df-container\">\n",
              "    <div>\n",
              "<style scoped>\n",
              "    .dataframe tbody tr th:only-of-type {\n",
              "        vertical-align: middle;\n",
              "    }\n",
              "\n",
              "    .dataframe tbody tr th {\n",
              "        vertical-align: top;\n",
              "    }\n",
              "\n",
              "    .dataframe thead th {\n",
              "        text-align: right;\n",
              "    }\n",
              "</style>\n",
              "<table border=\"1\" class=\"dataframe\">\n",
              "  <thead>\n",
              "    <tr style=\"text-align: right;\">\n",
              "      <th></th>\n",
              "      <th>date_time</th>\n",
              "      <th>Global_active_power</th>\n",
              "      <th>year</th>\n",
              "      <th>quarter</th>\n",
              "      <th>month</th>\n",
              "      <th>day</th>\n",
              "      <th>weekday</th>\n",
              "    </tr>\n",
              "  </thead>\n",
              "  <tbody>\n",
              "    <tr>\n",
              "      <th>256864</th>\n",
              "      <td>2007-12-06 23:55:00</td>\n",
              "      <td>0.178</td>\n",
              "      <td>2007</td>\n",
              "      <td>4</td>\n",
              "      <td>12</td>\n",
              "      <td>6</td>\n",
              "      <td>1</td>\n",
              "    </tr>\n",
              "    <tr>\n",
              "      <th>256865</th>\n",
              "      <td>2007-12-06 23:56:00</td>\n",
              "      <td>0.178</td>\n",
              "      <td>2007</td>\n",
              "      <td>4</td>\n",
              "      <td>12</td>\n",
              "      <td>6</td>\n",
              "      <td>1</td>\n",
              "    </tr>\n",
              "    <tr>\n",
              "      <th>256866</th>\n",
              "      <td>2007-12-06 23:57:00</td>\n",
              "      <td>0.176</td>\n",
              "      <td>2007</td>\n",
              "      <td>4</td>\n",
              "      <td>12</td>\n",
              "      <td>6</td>\n",
              "      <td>1</td>\n",
              "    </tr>\n",
              "    <tr>\n",
              "      <th>256867</th>\n",
              "      <td>2007-12-06 23:58:00</td>\n",
              "      <td>0.216</td>\n",
              "      <td>2007</td>\n",
              "      <td>4</td>\n",
              "      <td>12</td>\n",
              "      <td>6</td>\n",
              "      <td>1</td>\n",
              "    </tr>\n",
              "    <tr>\n",
              "      <th>256868</th>\n",
              "      <td>2007-12-06 23:59:00</td>\n",
              "      <td>0.264</td>\n",
              "      <td>2007</td>\n",
              "      <td>4</td>\n",
              "      <td>12</td>\n",
              "      <td>6</td>\n",
              "      <td>1</td>\n",
              "    </tr>\n",
              "  </tbody>\n",
              "</table>\n",
              "</div>\n",
              "    <div class=\"colab-df-buttons\">\n",
              "\n",
              "  <div class=\"colab-df-container\">\n",
              "    <button class=\"colab-df-convert\" onclick=\"convertToInteractive('df-4a6850c0-e624-4b8a-b0fe-6cefbc2408b0')\"\n",
              "            title=\"Convert this dataframe to an interactive table.\"\n",
              "            style=\"display:none;\">\n",
              "\n",
              "  <svg xmlns=\"http://www.w3.org/2000/svg\" height=\"24px\" viewBox=\"0 -960 960 960\">\n",
              "    <path d=\"M120-120v-720h720v720H120Zm60-500h600v-160H180v160Zm220 220h160v-160H400v160Zm0 220h160v-160H400v160ZM180-400h160v-160H180v160Zm440 0h160v-160H620v160ZM180-180h160v-160H180v160Zm440 0h160v-160H620v160Z\"/>\n",
              "  </svg>\n",
              "    </button>\n",
              "\n",
              "  <style>\n",
              "    .colab-df-container {\n",
              "      display:flex;\n",
              "      gap: 12px;\n",
              "    }\n",
              "\n",
              "    .colab-df-convert {\n",
              "      background-color: #E8F0FE;\n",
              "      border: none;\n",
              "      border-radius: 50%;\n",
              "      cursor: pointer;\n",
              "      display: none;\n",
              "      fill: #1967D2;\n",
              "      height: 32px;\n",
              "      padding: 0 0 0 0;\n",
              "      width: 32px;\n",
              "    }\n",
              "\n",
              "    .colab-df-convert:hover {\n",
              "      background-color: #E2EBFA;\n",
              "      box-shadow: 0px 1px 2px rgba(60, 64, 67, 0.3), 0px 1px 3px 1px rgba(60, 64, 67, 0.15);\n",
              "      fill: #174EA6;\n",
              "    }\n",
              "\n",
              "    .colab-df-buttons div {\n",
              "      margin-bottom: 4px;\n",
              "    }\n",
              "\n",
              "    [theme=dark] .colab-df-convert {\n",
              "      background-color: #3B4455;\n",
              "      fill: #D2E3FC;\n",
              "    }\n",
              "\n",
              "    [theme=dark] .colab-df-convert:hover {\n",
              "      background-color: #434B5C;\n",
              "      box-shadow: 0px 1px 3px 1px rgba(0, 0, 0, 0.15);\n",
              "      filter: drop-shadow(0px 1px 2px rgba(0, 0, 0, 0.3));\n",
              "      fill: #FFFFFF;\n",
              "    }\n",
              "  </style>\n",
              "\n",
              "    <script>\n",
              "      const buttonEl =\n",
              "        document.querySelector('#df-4a6850c0-e624-4b8a-b0fe-6cefbc2408b0 button.colab-df-convert');\n",
              "      buttonEl.style.display =\n",
              "        google.colab.kernel.accessAllowed ? 'block' : 'none';\n",
              "\n",
              "      async function convertToInteractive(key) {\n",
              "        const element = document.querySelector('#df-4a6850c0-e624-4b8a-b0fe-6cefbc2408b0');\n",
              "        const dataTable =\n",
              "          await google.colab.kernel.invokeFunction('convertToInteractive',\n",
              "                                                    [key], {});\n",
              "        if (!dataTable) return;\n",
              "\n",
              "        const docLinkHtml = 'Like what you see? Visit the ' +\n",
              "          '<a target=\"_blank\" href=https://colab.research.google.com/notebooks/data_table.ipynb>data table notebook</a>'\n",
              "          + ' to learn more about interactive tables.';\n",
              "        element.innerHTML = '';\n",
              "        dataTable['output_type'] = 'display_data';\n",
              "        await google.colab.output.renderOutput(dataTable, element);\n",
              "        const docLink = document.createElement('div');\n",
              "        docLink.innerHTML = docLinkHtml;\n",
              "        element.appendChild(docLink);\n",
              "      }\n",
              "    </script>\n",
              "  </div>\n",
              "\n",
              "\n",
              "<div id=\"df-5657953f-c0b4-44ba-a017-1c37312cc47e\">\n",
              "  <button class=\"colab-df-quickchart\" onclick=\"quickchart('df-5657953f-c0b4-44ba-a017-1c37312cc47e')\"\n",
              "            title=\"Suggest charts\"\n",
              "            style=\"display:none;\">\n",
              "\n",
              "<svg xmlns=\"http://www.w3.org/2000/svg\" height=\"24px\"viewBox=\"0 0 24 24\"\n",
              "     width=\"24px\">\n",
              "    <g>\n",
              "        <path d=\"M19 3H5c-1.1 0-2 .9-2 2v14c0 1.1.9 2 2 2h14c1.1 0 2-.9 2-2V5c0-1.1-.9-2-2-2zM9 17H7v-7h2v7zm4 0h-2V7h2v10zm4 0h-2v-4h2v4z\"/>\n",
              "    </g>\n",
              "</svg>\n",
              "  </button>\n",
              "\n",
              "<style>\n",
              "  .colab-df-quickchart {\n",
              "      --bg-color: #E8F0FE;\n",
              "      --fill-color: #1967D2;\n",
              "      --hover-bg-color: #E2EBFA;\n",
              "      --hover-fill-color: #174EA6;\n",
              "      --disabled-fill-color: #AAA;\n",
              "      --disabled-bg-color: #DDD;\n",
              "  }\n",
              "\n",
              "  [theme=dark] .colab-df-quickchart {\n",
              "      --bg-color: #3B4455;\n",
              "      --fill-color: #D2E3FC;\n",
              "      --hover-bg-color: #434B5C;\n",
              "      --hover-fill-color: #FFFFFF;\n",
              "      --disabled-bg-color: #3B4455;\n",
              "      --disabled-fill-color: #666;\n",
              "  }\n",
              "\n",
              "  .colab-df-quickchart {\n",
              "    background-color: var(--bg-color);\n",
              "    border: none;\n",
              "    border-radius: 50%;\n",
              "    cursor: pointer;\n",
              "    display: none;\n",
              "    fill: var(--fill-color);\n",
              "    height: 32px;\n",
              "    padding: 0;\n",
              "    width: 32px;\n",
              "  }\n",
              "\n",
              "  .colab-df-quickchart:hover {\n",
              "    background-color: var(--hover-bg-color);\n",
              "    box-shadow: 0 1px 2px rgba(60, 64, 67, 0.3), 0 1px 3px 1px rgba(60, 64, 67, 0.15);\n",
              "    fill: var(--button-hover-fill-color);\n",
              "  }\n",
              "\n",
              "  .colab-df-quickchart-complete:disabled,\n",
              "  .colab-df-quickchart-complete:disabled:hover {\n",
              "    background-color: var(--disabled-bg-color);\n",
              "    fill: var(--disabled-fill-color);\n",
              "    box-shadow: none;\n",
              "  }\n",
              "\n",
              "  .colab-df-spinner {\n",
              "    border: 2px solid var(--fill-color);\n",
              "    border-color: transparent;\n",
              "    border-bottom-color: var(--fill-color);\n",
              "    animation:\n",
              "      spin 1s steps(1) infinite;\n",
              "  }\n",
              "\n",
              "  @keyframes spin {\n",
              "    0% {\n",
              "      border-color: transparent;\n",
              "      border-bottom-color: var(--fill-color);\n",
              "      border-left-color: var(--fill-color);\n",
              "    }\n",
              "    20% {\n",
              "      border-color: transparent;\n",
              "      border-left-color: var(--fill-color);\n",
              "      border-top-color: var(--fill-color);\n",
              "    }\n",
              "    30% {\n",
              "      border-color: transparent;\n",
              "      border-left-color: var(--fill-color);\n",
              "      border-top-color: var(--fill-color);\n",
              "      border-right-color: var(--fill-color);\n",
              "    }\n",
              "    40% {\n",
              "      border-color: transparent;\n",
              "      border-right-color: var(--fill-color);\n",
              "      border-top-color: var(--fill-color);\n",
              "    }\n",
              "    60% {\n",
              "      border-color: transparent;\n",
              "      border-right-color: var(--fill-color);\n",
              "    }\n",
              "    80% {\n",
              "      border-color: transparent;\n",
              "      border-right-color: var(--fill-color);\n",
              "      border-bottom-color: var(--fill-color);\n",
              "    }\n",
              "    90% {\n",
              "      border-color: transparent;\n",
              "      border-bottom-color: var(--fill-color);\n",
              "    }\n",
              "  }\n",
              "</style>\n",
              "\n",
              "  <script>\n",
              "    async function quickchart(key) {\n",
              "      const quickchartButtonEl =\n",
              "        document.querySelector('#' + key + ' button');\n",
              "      quickchartButtonEl.disabled = true;  // To prevent multiple clicks.\n",
              "      quickchartButtonEl.classList.add('colab-df-spinner');\n",
              "      try {\n",
              "        const charts = await google.colab.kernel.invokeFunction(\n",
              "            'suggestCharts', [key], {});\n",
              "      } catch (error) {\n",
              "        console.error('Error during call to suggestCharts:', error);\n",
              "      }\n",
              "      quickchartButtonEl.classList.remove('colab-df-spinner');\n",
              "      quickchartButtonEl.classList.add('colab-df-quickchart-complete');\n",
              "    }\n",
              "    (() => {\n",
              "      let quickchartButtonEl =\n",
              "        document.querySelector('#df-5657953f-c0b4-44ba-a017-1c37312cc47e button');\n",
              "      quickchartButtonEl.style.display =\n",
              "        google.colab.kernel.accessAllowed ? 'block' : 'none';\n",
              "    })();\n",
              "  </script>\n",
              "</div>\n",
              "\n",
              "    </div>\n",
              "  </div>\n"
            ],
            "application/vnd.google.colaboratory.intrinsic+json": {
              "type": "dataframe",
              "summary": "{\n  \"name\": \"dataset\",\n  \"rows\": 5,\n  \"fields\": [\n    {\n      \"column\": \"date_time\",\n      \"properties\": {\n        \"dtype\": \"date\",\n        \"min\": \"2007-12-06 23:55:00\",\n        \"max\": \"2007-12-06 23:59:00\",\n        \"num_unique_values\": 5,\n        \"samples\": [\n          \"2007-12-06 23:56:00\",\n          \"2007-12-06 23:59:00\",\n          \"2007-12-06 23:57:00\"\n        ],\n        \"semantic_type\": \"\",\n        \"description\": \"\"\n      }\n    },\n    {\n      \"column\": \"Global_active_power\",\n      \"properties\": {\n        \"dtype\": \"number\",\n        \"std\": 0.03829882504725179,\n        \"min\": 0.176,\n        \"max\": 0.264,\n        \"num_unique_values\": 4,\n        \"samples\": [\n          0.176,\n          0.264,\n          0.178\n        ],\n        \"semantic_type\": \"\",\n        \"description\": \"\"\n      }\n    },\n    {\n      \"column\": \"year\",\n      \"properties\": {\n        \"dtype\": \"number\",\n        \"std\": 0,\n        \"min\": 2007,\n        \"max\": 2007,\n        \"num_unique_values\": 1,\n        \"samples\": [\n          2007\n        ],\n        \"semantic_type\": \"\",\n        \"description\": \"\"\n      }\n    },\n    {\n      \"column\": \"quarter\",\n      \"properties\": {\n        \"dtype\": \"number\",\n        \"std\": 0,\n        \"min\": 4,\n        \"max\": 4,\n        \"num_unique_values\": 1,\n        \"samples\": [\n          4\n        ],\n        \"semantic_type\": \"\",\n        \"description\": \"\"\n      }\n    },\n    {\n      \"column\": \"month\",\n      \"properties\": {\n        \"dtype\": \"number\",\n        \"std\": 0,\n        \"min\": 12,\n        \"max\": 12,\n        \"num_unique_values\": 1,\n        \"samples\": [\n          12\n        ],\n        \"semantic_type\": \"\",\n        \"description\": \"\"\n      }\n    },\n    {\n      \"column\": \"day\",\n      \"properties\": {\n        \"dtype\": \"number\",\n        \"std\": 0,\n        \"min\": 6,\n        \"max\": 6,\n        \"num_unique_values\": 1,\n        \"samples\": [\n          6\n        ],\n        \"semantic_type\": \"\",\n        \"description\": \"\"\n      }\n    },\n    {\n      \"column\": \"weekday\",\n      \"properties\": {\n        \"dtype\": \"number\",\n        \"std\": 0,\n        \"min\": 1,\n        \"max\": 1,\n        \"num_unique_values\": 1,\n        \"samples\": [\n          1\n        ],\n        \"semantic_type\": \"\",\n        \"description\": \"\"\n      }\n    }\n  ]\n}"
            }
          },
          "metadata": {},
          "execution_count": 17
        }
      ]
    },
    {
      "cell_type": "markdown",
      "source": [
        "Exploratory Data Analysis"
      ],
      "metadata": {
        "id": "oa1PhUahTCNg"
      }
    },
    {
      "cell_type": "code",
      "source": [
        "dataset.plot(x='date_time', y='Global_active_power',style='.',\n",
        "        figsize=(15, 5),\n",
        "        color=color_pal[0])\n",
        "plt.show()"
      ],
      "metadata": {
        "colab": {
          "base_uri": "https://localhost:8080/",
          "height": 440
        },
        "id": "LkaVJqvLSzD2",
        "outputId": "a3dbf446-ac27-42f7-c96d-8ce84bb01efb"
      },
      "execution_count": null,
      "outputs": [
        {
          "output_type": "display_data",
          "data": {
            "text/plain": [
              "<Figure size 1500x500 with 1 Axes>"
            ],
            "image/png": "[encoded data removed]"
          },
          "metadata": {}
        }
      ]
    },
    {
      "cell_type": "code",
      "source": [
        "dataset.isna().sum()"
      ],
      "metadata": {
        "colab": {
          "base_uri": "https://localhost:8080/"
        },
        "id": "AGdyFA49Tt_J",
        "outputId": "e487177f-6fa8-40cb-b4b7-37ca078c12db"
      },
      "execution_count": null,
      "outputs": [
        {
          "output_type": "execute_result",
          "data": {
            "text/plain": [
              "date_time              0\n",
              "Global_active_power    0\n",
              "year                   0\n",
              "quarter                0\n",
              "month                  0\n",
              "day                    0\n",
              "weekday                0\n",
              "dtype: int64"
            ]
          },
          "metadata": {},
          "execution_count": 19
        }
      ]
    },
    {
      "cell_type": "code",
      "source": [
        "no_value = dataset.loc[(dataset['date_time'] >= '2007-08-01') & (dataset['date_time'] < '2007-09-05')]\n",
        "\n",
        "no_value.plot(x='date_time', y='Global_active_power',style='.',\n",
        "        figsize=(15, 5),\n",
        "        color=color_pal[0])\n",
        "plt.show()"
      ],
      "metadata": {
        "colab": {
          "base_uri": "https://localhost:8080/",
          "height": 450
        },
        "id": "tthMD5j5UBuP",
        "outputId": "33a6d7d9-695f-405e-8f6f-4990a26d1fd6"
      },
      "execution_count": null,
      "outputs": [
        {
          "output_type": "display_data",
          "data": {
            "text/plain": [
              "<Figure size 1500x500 with 1 Axes>"
            ],
            "image/png": "[encoded data removed]"
          },
          "metadata": {}
        }
      ]
    },
    {
      "cell_type": "code",
      "source": [
        "from sklearn.preprocessing import MinMaxScaler\n",
        "\n",
        "#Transform the Global_active_power column of the data DataFrame into a numpy array of float values\n",
        "\n",
        "dataset = dataset.Global_active_power.values.astype('float32')\n",
        "#Reshape the numpy array into a 2D array with 1 column\n",
        "\n",
        "dataset = np.reshape(dataset, (-1, 1))\n",
        "#Create an instance of the MinMaxScaler class to scale the values between 0 and 1\n",
        "\n",
        "scaler = MinMaxScaler(feature_range=(0, 1))\n",
        "#Fit the MinMaxScaler to the transformed data and transform the values\n",
        "\n",
        "dataset = scaler.fit_transform(dataset)\n",
        "#Split the transformed data into a training set (80%) and a test set (20%)\n",
        "\n",
        "train_size = int(len(dataset) * 0.80)\n",
        "test_size = len(dataset) - train_size\n",
        "train, test = dataset[0:train_size,:], dataset[train_size:len(dataset),:]"
      ],
      "metadata": {
        "id": "UcZXUQxUUKpw"
      },
      "execution_count": null,
      "outputs": []
    },
    {
      "cell_type": "code",
      "source": [
        "def create_dataset(dataset, look_back=1):\n",
        "    X, Y = [], []\n",
        "    for i in range(len(dataset)-look_back-1):\n",
        "        a = dataset[i:(i+look_back), 0]\n",
        "        X.append(a)\n",
        "        Y.append(dataset[i + look_back, 0])\n",
        "    return np.array(X), np.array(Y)"
      ],
      "metadata": {
        "id": "bETtm7U6UZTg"
      },
      "execution_count": null,
      "outputs": []
    },
    {
      "cell_type": "code",
      "source": [
        "look_back = 50\n",
        "X_train, Y_train = create_dataset(train, look_back)\n",
        "X_test, Y_test = create_dataset(test, look_back)"
      ],
      "metadata": {
        "id": "yWuxzzYpUfwQ"
      },
      "execution_count": null,
      "outputs": []
    },
    {
      "cell_type": "code",
      "source": [
        "X_train.shape"
      ],
      "metadata": {
        "colab": {
          "base_uri": "https://localhost:8080/"
        },
        "id": "flXiHdLKUkJQ",
        "outputId": "593e057f-cbfd-4b30-f425-d7182cdbf7e0"
      },
      "execution_count": null,
      "outputs": [
        {
          "output_type": "execute_result",
          "data": {
            "text/plain": [
              "(205444, 50)"
            ]
          },
          "metadata": {},
          "execution_count": 24
        }
      ]
    },
    {
      "cell_type": "code",
      "source": [
        "Y_train.shape"
      ],
      "metadata": {
        "colab": {
          "base_uri": "https://localhost:8080/"
        },
        "id": "BzB4k60uUoPJ",
        "outputId": "ede402c6-8ccd-4ab7-8a24-232c7766619d"
      },
      "execution_count": null,
      "outputs": [
        {
          "output_type": "execute_result",
          "data": {
            "text/plain": [
              "(205444,)"
            ]
          },
          "metadata": {},
          "execution_count": 25
        }
      ]
    },
    {
      "cell_type": "code",
      "source": [
        "from tensorflow.keras.models import Sequential\n",
        "from tensorflow.keras.layers import Dense\n",
        "from tensorflow.keras.metrics import RootMeanSquaredError\n",
        "\n",
        "model = Sequential()\n",
        "model.add(Dense(units=64, input_dim=X_train.shape[1], kernel_initializer='normal', activation='relu'))\n",
        "model.add(Dense(units=32, kernel_initializer='normal', activation='relu'))\n",
        "model.add(Dense(units=16, kernel_initializer='normal', activation='relu'))\n",
        "model.add(Dense(units=1, kernel_initializer='normal', activation='linear'))\n",
        "model.compile(optimizer='adam', loss='mean_squared_error', metrics=[RootMeanSquaredError()])\n",
        "\n",
        "# Training the ANN model\n",
        "history = model.fit(X_train, Y_train, batch_size=32, epochs=25, verbose=1)"
      ],
      "metadata": {
        "colab": {
          "base_uri": "https://localhost:8080/"
        },
        "id": "IdUzpDdD5bwP",
        "outputId": "280e2030-861b-4d50-8ba2-4905734d0aec"
      },
      "execution_count": null,
      "outputs": [
        {
          "output_type": "stream",
          "name": "stdout",
          "text": [
            "Epoch 1/25\n",
            "6421/6421 [==============================] - 19s 3ms/step - loss: 0.0011 - root_mean_squared_error: 0.0335\n",
            "Epoch 2/25\n",
            "6421/6421 [==============================] - 18s 3ms/step - loss: 8.8296e-04 - root_mean_squared_error: 0.0297\n",
            "Epoch 3/25\n",
            "6421/6421 [==============================] - 19s 3ms/step - loss: 8.6589e-04 - root_mean_squared_error: 0.0294\n",
            "Epoch 4/25\n",
            "6421/6421 [==============================] - 19s 3ms/step - loss: 8.5146e-04 - root_mean_squared_error: 0.0292\n",
            "Epoch 5/25\n",
            "6421/6421 [==============================] - 18s 3ms/step - loss: 8.3868e-04 - root_mean_squared_error: 0.0290\n",
            "Epoch 6/25\n",
            "6421/6421 [==============================] - 18s 3ms/step - loss: 8.2502e-04 - root_mean_squared_error: 0.0287\n",
            "Epoch 7/25\n",
            "6421/6421 [==============================] - 17s 3ms/step - loss: 8.1575e-04 - root_mean_squared_error: 0.0286\n",
            "Epoch 8/25\n",
            "6421/6421 [==============================] - 16s 3ms/step - loss: 8.0951e-04 - root_mean_squared_error: 0.0285\n",
            "Epoch 9/25\n",
            "6421/6421 [==============================] - 18s 3ms/step - loss: 8.0503e-04 - root_mean_squared_error: 0.0284\n",
            "Epoch 10/25\n",
            "6421/6421 [==============================] - 19s 3ms/step - loss: 7.9530e-04 - root_mean_squared_error: 0.0282\n",
            "Epoch 11/25\n",
            "6421/6421 [==============================] - 17s 3ms/step - loss: 7.9079e-04 - root_mean_squared_error: 0.0281\n",
            "Epoch 12/25\n",
            "6421/6421 [==============================] - 16s 3ms/step - loss: 7.8447e-04 - root_mean_squared_error: 0.0280\n",
            "Epoch 13/25\n",
            "6421/6421 [==============================] - 16s 3ms/step - loss: 7.7492e-04 - root_mean_squared_error: 0.0278\n",
            "Epoch 14/25\n",
            "6421/6421 [==============================] - 16s 3ms/step - loss: 7.7468e-04 - root_mean_squared_error: 0.0278\n",
            "Epoch 15/25\n",
            "6421/6421 [==============================] - 17s 3ms/step - loss: 7.7041e-04 - root_mean_squared_error: 0.0278\n",
            "Epoch 16/25\n",
            "6421/6421 [==============================] - 20s 3ms/step - loss: 7.6455e-04 - root_mean_squared_error: 0.0277\n",
            "Epoch 17/25\n",
            "6421/6421 [==============================] - 19s 3ms/step - loss: 7.6228e-04 - root_mean_squared_error: 0.0276\n",
            "Epoch 18/25\n",
            "6421/6421 [==============================] - 17s 3ms/step - loss: 7.6109e-04 - root_mean_squared_error: 0.0276\n",
            "Epoch 19/25\n",
            "6421/6421 [==============================] - 18s 3ms/step - loss: 7.5808e-04 - root_mean_squared_error: 0.0275\n",
            "Epoch 20/25\n",
            "6421/6421 [==============================] - 19s 3ms/step - loss: 7.5486e-04 - root_mean_squared_error: 0.0275\n",
            "Epoch 21/25\n",
            "6421/6421 [==============================] - 18s 3ms/step - loss: 7.5243e-04 - root_mean_squared_error: 0.0274\n",
            "Epoch 22/25\n",
            "6421/6421 [==============================] - 17s 3ms/step - loss: 7.5055e-04 - root_mean_squared_error: 0.0274\n",
            "Epoch 23/25\n",
            "6421/6421 [==============================] - 18s 3ms/step - loss: 7.4738e-04 - root_mean_squared_error: 0.0273\n",
            "Epoch 24/25\n",
            "6421/6421 [==============================] - 17s 3ms/step - loss: 7.4301e-04 - root_mean_squared_error: 0.0273\n",
            "Epoch 25/25\n",
            "6421/6421 [==============================] - 17s 3ms/step - loss: 7.4660e-04 - root_mean_squared_error: 0.0273\n"
          ]
        }
      ]
    },
    {
      "cell_type": "code",
      "source": [
        "y_ann_pred1 = model.predict(X_test)"
      ],
      "metadata": {
        "colab": {
          "base_uri": "https://localhost:8080/"
        },
        "id": "W_0GrgWK742G",
        "outputId": "5fe31cb1-c7b6-4687-8fdd-b516233a9748"
      },
      "execution_count": null,
      "outputs": [
        {
          "output_type": "stream",
          "name": "stdout",
          "text": [
            "1604/1604 [==============================] - 3s 2ms/step\n"
          ]
        }
      ]
    },
    {
      "cell_type": "code",
      "source": [
        "from sklearn.metrics import mean_squared_error\n",
        "from sklearn.metrics import mean_absolute_error, r2_score\n",
        "\n",
        "rmse_ANN = mean_squared_error(Y_test, y_ann_pred1, squared=False)\n",
        "mse = mean_squared_error(Y_test, y_ann_pred1)\n",
        "mae = mean_absolute_error(Y_test, y_ann_pred1)\n",
        "r2 = r2_score(Y_test, y_ann_pred1)\n",
        "\n",
        "print(f'Test RMSE: {rmse_ANN}')\n",
        "print(f'Mean Squared Error (MSE): {mse}')\n",
        "print(f'R-squared (R2) Score: {r2}')\n",
        "print(f\"Mean Absolute Error (MAE) : {mae}\")"
      ],
      "metadata": {
        "colab": {
          "base_uri": "https://localhost:8080/"
        },
        "id": "G_HEvGlf8Hd4",
        "outputId": "3a48bc78-19f1-45f5-9998-ea8941651eac"
      },
      "execution_count": null,
      "outputs": [
        {
          "output_type": "stream",
          "name": "stdout",
          "text": [
            "Test RMSE: 0.02732953242957592\n",
            "Mean Squared Error (MSE): 0.0007469033007510006\n",
            "R-squared (R2) Score: 0.9397843945328378\n",
            "Mean Absolute Error (MAE) : 0.010976262390613556\n"
          ]
        }
      ]
    },
    {
      "cell_type": "code",
      "source": [
        "from sklearn.preprocessing import PolynomialFeatures\n",
        "from sklearn.linear_model import LinearRegression\n",
        "from sklearn.pipeline import make_pipeline\n",
        "\n",
        "poly_reg = make_pipeline(PolynomialFeatures(degree=2), LinearRegression())\n",
        "poly_reg.fit(X_train, Y_train)"
      ],
      "metadata": {
        "colab": {
          "base_uri": "https://localhost:8080/",
          "height": 125
        },
        "id": "2RmxRvSQU37h",
        "outputId": "8430dbb7-0c34-477d-eb22-324525890f2c"
      },
      "execution_count": null,
      "outputs": [
        {
          "output_type": "execute_result",
          "data": {
            "text/plain": [
              "Pipeline(steps=[('polynomialfeatures', PolynomialFeatures()),\n",
              "                ('linearregression', LinearRegression())])"
            ],
            "text/html": [
              "<style>#sk-container-id-1 {color: black;background-color: white;}#sk-container-id-1 pre{padding: 0;}#sk-container-id-1 div.sk-toggleable {background-color: white;}#sk-container-id-1 label.sk-toggleable__label {cursor: pointer;display: block;width: 100%;margin-bottom: 0;padding: 0.3em;box-sizing: border-box;text-align: center;}#sk-container-id-1 label.sk-toggleable__label-arrow:before {content: \"▸\";float: left;margin-right: 0.25em;color: #696969;}#sk-container-id-1 label.sk-toggleable__label-arrow:hover:before {color: black;}#sk-container-id-1 div.sk-estimator:hover label.sk-toggleable__label-arrow:before {color: black;}#sk-container-id-1 div.sk-toggleable__content {max-height: 0;max-width: 0;overflow: hidden;text-align: left;background-color: #f0f8ff;}#sk-container-id-1 div.sk-toggleable__content pre {margin: 0.2em;color: black;border-radius: 0.25em;background-color: #f0f8ff;}#sk-container-id-1 input.sk-toggleable__control:checked~div.sk-toggleable__content {max-height: 200px;max-width: 100%;overflow: auto;}#sk-container-id-1 input.sk-toggleable__control:checked~label.sk-toggleable__label-arrow:before {content: \"▾\";}#sk-container-id-1 div.sk-estimator input.sk-toggleable__control:checked~label.sk-toggleable__label {background-color: #d4ebff;}#sk-container-id-1 div.sk-label input.sk-toggleable__control:checked~label.sk-toggleable__label {background-color: #d4ebff;}#sk-container-id-1 input.sk-hidden--visually {border: 0;clip: rect(1px 1px 1px 1px);clip: rect(1px, 1px, 1px, 1px);height: 1px;margin: -1px;overflow: hidden;padding: 0;position: absolute;width: 1px;}#sk-container-id-1 div.sk-estimator {font-family: monospace;background-color: #f0f8ff;border: 1px dotted black;border-radius: 0.25em;box-sizing: border-box;margin-bottom: 0.5em;}#sk-container-id-1 div.sk-estimator:hover {background-color: #d4ebff;}#sk-container-id-1 div.sk-parallel-item::after {content: \"\";width: 100%;border-bottom: 1px solid gray;flex-grow: 1;}#sk-container-id-1 div.sk-label:hover label.sk-toggleable__label {background-color: #d4ebff;}#sk-container-id-1 div.sk-serial::before {content: \"\";position: absolute;border-left: 1px solid gray;box-sizing: border-box;top: 0;bottom: 0;left: 50%;z-index: 0;}#sk-container-id-1 div.sk-serial {display: flex;flex-direction: column;align-items: center;background-color: white;padding-right: 0.2em;padding-left: 0.2em;position: relative;}#sk-container-id-1 div.sk-item {position: relative;z-index: 1;}#sk-container-id-1 div.sk-parallel {display: flex;align-items: stretch;justify-content: center;background-color: white;position: relative;}#sk-container-id-1 div.sk-item::before, #sk-container-id-1 div.sk-parallel-item::before {content: \"\";position: absolute;border-left: 1px solid gray;box-sizing: border-box;top: 0;bottom: 0;left: 50%;z-index: -1;}#sk-container-id-1 div.sk-parallel-item {display: flex;flex-direction: column;z-index: 1;position: relative;background-color: white;}#sk-container-id-1 div.sk-parallel-item:first-child::after {align-self: flex-end;width: 50%;}#sk-container-id-1 div.sk-parallel-item:last-child::after {align-self: flex-start;width: 50%;}#sk-container-id-1 div.sk-parallel-item:only-child::after {width: 0;}#sk-container-id-1 div.sk-dashed-wrapped {border: 1px dashed gray;margin: 0 0.4em 0.5em 0.4em;box-sizing: border-box;padding-bottom: 0.4em;background-color: white;}#sk-container-id-1 div.sk-label label {font-family: monospace;font-weight: bold;display: inline-block;line-height: 1.2em;}#sk-container-id-1 div.sk-label-container {text-align: center;}#sk-container-id-1 div.sk-container {/* jupyter's `normalize.less` sets `[hidden] { display: none; }` but bootstrap.min.css set `[hidden] { display: none !important; }` so we also need the `!important` here to be able to override the default hidden behavior on the sphinx rendered scikit-learn.org. See: https://github.com/scikit-learn/scikit-learn/issues/21755 */display: inline-block !important;position: relative;}#sk-container-id-1 div.sk-text-repr-fallback {display: none;}</style><div id=\"sk-container-id-1\" class=\"sk-top-container\"><div class=\"sk-text-repr-fallback\"><pre>Pipeline(steps=[(&#x27;polynomialfeatures&#x27;, PolynomialFeatures()),\n",
              "                (&#x27;linearregression&#x27;, LinearRegression())])</pre><b>In a Jupyter environment, please rerun this cell to show the HTML representation or trust the notebook. <br />On GitHub, the HTML representation is unable to render, please try loading this page with nbviewer.org.</b></div><div class=\"sk-container\" hidden><div class=\"sk-item sk-dashed-wrapped\"><div class=\"sk-label-container\"><div class=\"sk-label sk-toggleable\"><input class=\"sk-toggleable__control sk-hidden--visually\" id=\"sk-estimator-id-1\" type=\"checkbox\" ><label for=\"sk-estimator-id-1\" class=\"sk-toggleable__label sk-toggleable__label-arrow\">Pipeline</label><div class=\"sk-toggleable__content\"><pre>Pipeline(steps=[(&#x27;polynomialfeatures&#x27;, PolynomialFeatures()),\n",
              "                (&#x27;linearregression&#x27;, LinearRegression())])</pre></div></div></div><div class=\"sk-serial\"><div class=\"sk-item\"><div class=\"sk-estimator sk-toggleable\"><input class=\"sk-toggleable__control sk-hidden--visually\" id=\"sk-estimator-id-2\" type=\"checkbox\" ><label for=\"sk-estimator-id-2\" class=\"sk-toggleable__label sk-toggleable__label-arrow\">PolynomialFeatures</label><div class=\"sk-toggleable__content\"><pre>PolynomialFeatures()</pre></div></div></div><div class=\"sk-item\"><div class=\"sk-estimator sk-toggleable\"><input class=\"sk-toggleable__control sk-hidden--visually\" id=\"sk-estimator-id-3\" type=\"checkbox\" ><label for=\"sk-estimator-id-3\" class=\"sk-toggleable__label sk-toggleable__label-arrow\">LinearRegression</label><div class=\"sk-toggleable__content\"><pre>LinearRegression()</pre></div></div></div></div></div></div></div>"
            ]
          },
          "metadata": {},
          "execution_count": 48
        }
      ]
    },
    {
      "cell_type": "code",
      "source": [
        "from sklearn.metrics import mean_squared_error\n",
        "\n",
        "y_pred_poly = poly_reg.predict(X_test)\n",
        "rmse_polynom_test = mean_squared_error(Y_test, y_pred_poly, squared=False)\n",
        "mse = mean_squared_error(Y_test, y_pred_poly)\n",
        "mae = mean_absolute_error(Y_test, y_pred_poly)\n",
        "r2 = r2_score(Y_test, y_pred_poly)\n",
        "\n",
        "print(f'Test RMSE: {rmse_polynom_test}')\n",
        "print(f'Mean Squared Error (MSE): {mse}')\n",
        "print(f'R-squared (R2) Score: {r2}')\n",
        "print(f\"Mean Absolute Error (MAE) : {mae}\")"
      ],
      "metadata": {
        "colab": {
          "base_uri": "https://localhost:8080/"
        },
        "id": "c-9_L5xOVPEr",
        "outputId": "4009288a-a31a-4e03-dabd-78efeb5175dc"
      },
      "execution_count": null,
      "outputs": [
        {
          "output_type": "stream",
          "name": "stdout",
          "text": [
            "Test RMSE: 0.028113504871726036\n",
            "Mean Squared Error (MSE): 0.0007903691730462015\n",
            "R-squared (R2) Score: 0.9362801549286418\n",
            "Mean Absolute Error (MAE) : 0.010896856896579266\n"
          ]
        }
      ]
    },
    {
      "cell_type": "code",
      "source": [
        "import xgboost as xgb\n",
        "\n",
        "xg = xgb.XGBRegressor(base_score=0.5, booster='gbtree',\n",
        "                       n_estimators=3000,\n",
        "                       objective='reg:squarederror',\n",
        "                       max_depth=3,\n",
        "                       learning_rate=0.003,\n",
        "                       random_state=42)\n",
        "\n",
        "xg.fit(X_train, Y_train)\n",
        "\n",
        "y_pred_xgb_test = xg.predict(X_test)\n",
        "\n",
        "rmse_XGBOOST = mean_squared_error(Y_test, y_pred_xgb_test, squared=False)\n",
        "mse = mean_squared_error(Y_test, y_pred_xgb_test)\n",
        "mae = mean_absolute_error(Y_test, y_pred_xgb_test)\n",
        "r2 = r2_score(Y_test, y_pred_xgb_test)\n",
        "\n",
        "print(f'Test RMSE: {rmse_XGBOOST}')\n",
        "print(f'Mean Squared Error (MSE): {mse}')\n",
        "print(f'R-squared (R2) Score: {r2}')\n",
        "print(f\"Mean Absolute Error (MAE) : {mae}\")"
      ],
      "metadata": {
        "colab": {
          "base_uri": "https://localhost:8080/"
        },
        "id": "oB2spCQ2WAB_",
        "outputId": "7edc3bcd-4bb2-42e1-ad81-9d3fe4435302"
      },
      "execution_count": null,
      "outputs": [
        {
          "output_type": "stream",
          "name": "stdout",
          "text": [
            "Test RMSE: 0.027726728469133377\n",
            "Mean Squared Error (MSE): 0.000768771511502564\n",
            "R-squared (R2) Score: 0.9380213728712772\n",
            "Mean Absolute Error (MAE) : 0.010240120813250542\n"
          ]
        }
      ]
    },
    {
      "cell_type": "code",
      "source": [
        "X_train_xgb = xg.predict(X_train).reshape(-1, 1)\n",
        "X_test_xgb = xg.predict(X_test).reshape(-1, 1)"
      ],
      "metadata": {
        "id": "WOJVocIWtxhT"
      },
      "execution_count": null,
      "outputs": []
    },
    {
      "cell_type": "code",
      "source": [
        "X_train_combined = np.concatenate((X_train, X_train_xgb), axis=1)\n",
        "X_test_combined = np.concatenate((X_test, X_test_xgb), axis=1)"
      ],
      "metadata": {
        "id": "SvezZQDIucKR"
      },
      "execution_count": null,
      "outputs": []
    },
    {
      "cell_type": "code",
      "source": [
        "import keras\n",
        "import keras.utils\n",
        "from keras import utils as np_utils"
      ],
      "metadata": {
        "id": "r05V5dNIX5RM"
      },
      "execution_count": null,
      "outputs": []
    },
    {
      "cell_type": "code",
      "source": [
        "from tensorflow.keras.models import Sequential\n",
        "from tensorflow.keras.layers import Dense\n",
        "from tensorflow.keras.metrics import RootMeanSquaredError\n",
        "\n",
        "model = Sequential()\n",
        "model.add(Dense(units=64, input_dim=X_train_combined.shape[1], kernel_initializer='normal', activation='relu'))\n",
        "model.add(Dense(units=32, kernel_initializer='normal', activation='relu'))\n",
        "model.add(Dense(units=16, kernel_initializer='normal', activation='relu'))\n",
        "model.add(Dense(units=1, kernel_initializer='normal', activation='linear'))\n",
        "model.compile(optimizer='adam', loss='mean_squared_error', metrics=[RootMeanSquaredError()])\n",
        "\n",
        "# Training the ANN model\n",
        "history = model.fit(X_train_combined, Y_train, batch_size=32, epochs=25, verbose=1)"
      ],
      "metadata": {
        "colab": {
          "base_uri": "https://localhost:8080/"
        },
        "id": "hfN4hkPLYQYw",
        "outputId": "f179a8e1-b4ac-4006-8d3e-0f5809f49cb4"
      },
      "execution_count": null,
      "outputs": [
        {
          "output_type": "stream",
          "name": "stdout",
          "text": [
            "Epoch 1/25\n",
            "6421/6421 [==============================] - 16s 2ms/step - loss: 0.0010 - root_mean_squared_error: 0.0318\n",
            "Epoch 2/25\n",
            "6421/6421 [==============================] - 15s 2ms/step - loss: 8.5085e-04 - root_mean_squared_error: 0.0292\n",
            "Epoch 3/25\n",
            "6421/6421 [==============================] - 15s 2ms/step - loss: 8.3872e-04 - root_mean_squared_error: 0.0290\n",
            "Epoch 4/25\n",
            "6421/6421 [==============================] - 15s 2ms/step - loss: 8.2402e-04 - root_mean_squared_error: 0.0287\n",
            "Epoch 5/25\n",
            "6421/6421 [==============================] - 15s 2ms/step - loss: 8.1295e-04 - root_mean_squared_error: 0.0285\n",
            "Epoch 6/25\n",
            "6421/6421 [==============================] - 15s 2ms/step - loss: 8.0768e-04 - root_mean_squared_error: 0.0284\n",
            "Epoch 7/25\n",
            "6421/6421 [==============================] - 15s 2ms/step - loss: 8.0096e-04 - root_mean_squared_error: 0.0283\n",
            "Epoch 8/25\n",
            "6421/6421 [==============================] - 16s 2ms/step - loss: 7.9266e-04 - root_mean_squared_error: 0.0282\n",
            "Epoch 9/25\n",
            "6421/6421 [==============================] - 16s 2ms/step - loss: 7.8933e-04 - root_mean_squared_error: 0.0281\n",
            "Epoch 10/25\n",
            "6421/6421 [==============================] - 18s 3ms/step - loss: 7.8312e-04 - root_mean_squared_error: 0.0280\n",
            "Epoch 11/25\n",
            "6421/6421 [==============================] - 15s 2ms/step - loss: 7.7968e-04 - root_mean_squared_error: 0.0279\n",
            "Epoch 12/25\n",
            "6421/6421 [==============================] - 15s 2ms/step - loss: 7.7688e-04 - root_mean_squared_error: 0.0279\n",
            "Epoch 13/25\n",
            "6421/6421 [==============================] - 15s 2ms/step - loss: 7.7232e-04 - root_mean_squared_error: 0.0278\n",
            "Epoch 14/25\n",
            "6421/6421 [==============================] - 16s 2ms/step - loss: 7.7400e-04 - root_mean_squared_error: 0.0278\n",
            "Epoch 15/25\n",
            "6421/6421 [==============================] - 15s 2ms/step - loss: 7.6853e-04 - root_mean_squared_error: 0.0277\n",
            "Epoch 16/25\n",
            "6421/6421 [==============================] - 15s 2ms/step - loss: 7.6366e-04 - root_mean_squared_error: 0.0276\n",
            "Epoch 17/25\n",
            "6421/6421 [==============================] - 15s 2ms/step - loss: 7.5977e-04 - root_mean_squared_error: 0.0276\n",
            "Epoch 18/25\n",
            "6421/6421 [==============================] - 15s 2ms/step - loss: 7.5837e-04 - root_mean_squared_error: 0.0275\n",
            "Epoch 19/25\n",
            "6421/6421 [==============================] - 15s 2ms/step - loss: 7.5564e-04 - root_mean_squared_error: 0.0275\n",
            "Epoch 20/25\n",
            "6421/6421 [==============================] - 17s 3ms/step - loss: 7.5087e-04 - root_mean_squared_error: 0.0274\n",
            "Epoch 21/25\n",
            "6421/6421 [==============================] - 14s 2ms/step - loss: 7.4913e-04 - root_mean_squared_error: 0.0274\n",
            "Epoch 22/25\n",
            "6421/6421 [==============================] - 15s 2ms/step - loss: 7.4855e-04 - root_mean_squared_error: 0.0274\n",
            "Epoch 23/25\n",
            "6421/6421 [==============================] - 14s 2ms/step - loss: 7.4646e-04 - root_mean_squared_error: 0.0273\n",
            "Epoch 24/25\n",
            "6421/6421 [==============================] - 15s 2ms/step - loss: 7.4187e-04 - root_mean_squared_error: 0.0272\n",
            "Epoch 25/25\n",
            "6421/6421 [==============================] - 15s 2ms/step - loss: 7.4086e-04 - root_mean_squared_error: 0.0272\n"
          ]
        }
      ]
    },
    {
      "cell_type": "code",
      "source": [
        "y_ann_pred = model.predict(X_test_combined)"
      ],
      "metadata": {
        "colab": {
          "base_uri": "https://localhost:8080/"
        },
        "id": "_iZ5gyobeKBd",
        "outputId": "28d25901-6d59-4c09-c391-4761ce116caf"
      },
      "execution_count": null,
      "outputs": [
        {
          "output_type": "stream",
          "name": "stdout",
          "text": [
            "1604/1604 [==============================] - 4s 2ms/step\n"
          ]
        }
      ]
    },
    {
      "cell_type": "code",
      "source": [
        "rmse_ANN = mean_squared_error(Y_test, y_ann_pred, squared=False)\n",
        "mse = mean_squared_error(Y_test, y_ann_pred)\n",
        "mae = mean_absolute_error(Y_test, y_ann_pred)\n",
        "r2 = r2_score(Y_test, y_ann_pred)\n",
        "\n",
        "print(f'Test RMSE: {rmse_ANN}')\n",
        "print(f'Mean Squared Error (MSE): {mse}')\n",
        "print(f'R-squared (R2) Score: {r2}')\n",
        "print(f\"Mean Absolute Error (MAE) : {mae}\")"
      ],
      "metadata": {
        "colab": {
          "base_uri": "https://localhost:8080/"
        },
        "id": "v0fXolbNeMb9",
        "outputId": "dc2c122b-d4c4-4d90-c83e-8e334dc5d84d"
      },
      "execution_count": null,
      "outputs": [
        {
          "output_type": "stream",
          "name": "stdout",
          "text": [
            "Test RMSE: 0.02723797969520092\n",
            "Mean Squared Error (MSE): 0.0007419075700454414\n",
            "R-squared (R2) Score: 0.9401871475595117\n",
            "Mean Absolute Error (MAE) : 0.010585014708340168\n"
          ]
        }
      ]
    },
    {
      "cell_type": "code",
      "source": [
        "import keras\n",
        "from keras.models import Sequential\n",
        "from keras.layers import Dense\n",
        "from keras.layers import LSTM\n",
        "from keras.layers import Dropout\n",
        "from keras.layers import *\n",
        "from keras.callbacks import EarlyStopping\n",
        "\n",
        "model = Sequential()\n",
        "\n",
        "# Adding the first layer with 100 LSTM units and input shape of the data\n",
        "model.add(LSTM(100, input_shape=(X_train.shape[1], X_train.shape[2])))\n",
        "\n",
        "# Adding a dropout layer to avoid overfitting\n",
        "model.add(Dropout(0.2))\n",
        "\n",
        "# Adding a dense layer with 1 unit to make predictions\n",
        "model.add(Dense(1))\n",
        "\n",
        "# Compiling the model with mean squared error as the loss function and using Adam optimizer\n",
        "model.compile(loss='mean_squared_error', optimizer='adam')\n",
        "\n",
        "# Fitting the model on training data and using early stopping to avoid overfitting\n",
        "history = model.fit(X_train, Y_train, epochs=30, batch_size=1240, validation_data=(X_test, Y_test),\n",
        "                    callbacks=[EarlyStopping(monitor='val_loss', patience=4)], verbose=1, shuffle=False)\n",
        "\n",
        "# Displaying a summary of the model\n",
        "model.summary()"
      ],
      "metadata": {
        "id": "tNzaFboRebkM"
      },
      "execution_count": null,
      "outputs": []
    },
    {
      "cell_type": "code",
      "source": [
        "from tensorflow.keras.models import Model\n",
        "\n",
        "# Assuming 'model' is your existing Keras model\n",
        "feature_extractor = Model(inputs=model.input, outputs=model.layers[-2].output)\n",
        "\n",
        "# Extract features from training and test sets\n",
        "X_train_features = feature_extractor.predict(X_train)\n",
        "X_test_features = feature_extractor.predict(X_test)"
      ],
      "metadata": {
        "id": "eyC-amc8fyiq"
      },
      "execution_count": null,
      "outputs": []
    },
    {
      "cell_type": "code",
      "source": [
        "import xgboost as xgb\n",
        "\n",
        "# Initialize XGBRegressor with your chosen hyperparameters\n",
        "model_xgb_reg = xgb.XGBRegressor(base_score=0.5, booster='gbtree',\n",
        "                                 n_estimators=3000,\n",
        "                                 objective='reg:squarederror',\n",
        "                                 max_depth=3,\n",
        "                                 learning_rate=0.003,\n",
        "                                 random_state=42)\n",
        "\n",
        "# Fit XGBRegressor on the extracted features\n",
        "model_xgb_reg.fit(X_train_features, Y_train)"
      ],
      "metadata": {
        "id": "XW3YsUQAgAsI"
      },
      "execution_count": null,
      "outputs": []
    },
    {
      "cell_type": "code",
      "source": [
        "# Make predictions on the test set\n",
        "y_pred = model_xgb_reg.predict(X_test_features)\n",
        "\n",
        "# Evaluate the performance (optional)\n",
        "from sklearn.metrics import mean_squared_error, r2_score\n",
        "\n",
        "rmse = mean_squared_error(Y_test, y_pred, squared=False)\n",
        "mse = mean_squared_error(Y_test, y_pred)\n",
        "mae = mean_absolute_error(Y_test, y_pred)\n",
        "r2 = r2_score(Y_test, y_pred)\n",
        "\n",
        "print(f\"RMSE : {rmse}\")\n",
        "print(f'Mean Squared Error (MSE): {mse}')\n",
        "print(f'R-squared (R2) Score: {r2}')\n",
        "print(f\"Mean Absolute Error (MAE) : {mae}\")"
      ],
      "metadata": {
        "id": "0O1gsNRGgIrg"
      },
      "execution_count": null,
      "outputs": []
    }
  ]
}